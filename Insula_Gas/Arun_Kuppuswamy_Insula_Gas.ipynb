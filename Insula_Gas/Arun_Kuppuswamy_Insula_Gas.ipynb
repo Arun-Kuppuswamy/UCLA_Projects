{
 "cells": [
  {
   "cell_type": "code",
   "execution_count": 1,
   "metadata": {},
   "outputs": [],
   "source": [
    "import pandas as pd\n",
    "from scipy.stats import ttest_ind\n",
    "import statistics as stat"
   ]
  },
  {
   "cell_type": "code",
   "execution_count": 3,
   "metadata": {},
   "outputs": [],
   "source": [
    "df=pd.read_csv(\"insulgas.csv\")"
   ]
  },
  {
   "cell_type": "code",
   "execution_count": 4,
   "metadata": {},
   "outputs": [
    {
     "data": {
      "text/html": [
       "<div>\n",
       "<style scoped>\n",
       "    .dataframe tbody tr th:only-of-type {\n",
       "        vertical-align: middle;\n",
       "    }\n",
       "\n",
       "    .dataframe tbody tr th {\n",
       "        vertical-align: top;\n",
       "    }\n",
       "\n",
       "    .dataframe thead th {\n",
       "        text-align: right;\n",
       "    }\n",
       "</style>\n",
       "<table border=\"1\" class=\"dataframe\">\n",
       "  <thead>\n",
       "    <tr style=\"text-align: right;\">\n",
       "      <th></th>\n",
       "      <th>Insulate</th>\n",
       "      <th>Temp</th>\n",
       "      <th>Gas</th>\n",
       "    </tr>\n",
       "  </thead>\n",
       "  <tbody>\n",
       "    <tr>\n",
       "      <th>0</th>\n",
       "      <td>Before</td>\n",
       "      <td>-0.8</td>\n",
       "      <td>7.2</td>\n",
       "    </tr>\n",
       "    <tr>\n",
       "      <th>1</th>\n",
       "      <td>Before</td>\n",
       "      <td>-0.7</td>\n",
       "      <td>6.9</td>\n",
       "    </tr>\n",
       "    <tr>\n",
       "      <th>2</th>\n",
       "      <td>Before</td>\n",
       "      <td>0.4</td>\n",
       "      <td>6.4</td>\n",
       "    </tr>\n",
       "    <tr>\n",
       "      <th>3</th>\n",
       "      <td>Before</td>\n",
       "      <td>2.5</td>\n",
       "      <td>6.0</td>\n",
       "    </tr>\n",
       "    <tr>\n",
       "      <th>4</th>\n",
       "      <td>Before</td>\n",
       "      <td>2.9</td>\n",
       "      <td>5.8</td>\n",
       "    </tr>\n",
       "  </tbody>\n",
       "</table>\n",
       "</div>"
      ],
      "text/plain": [
       "  Insulate  Temp  Gas\n",
       "0   Before  -0.8  7.2\n",
       "1   Before  -0.7  6.9\n",
       "2   Before   0.4  6.4\n",
       "3   Before   2.5  6.0\n",
       "4   Before   2.9  5.8"
      ]
     },
     "execution_count": 4,
     "metadata": {},
     "output_type": "execute_result"
    }
   ],
   "source": [
    "df.head(5)"
   ]
  },
  {
   "cell_type": "code",
   "execution_count": 5,
   "metadata": {},
   "outputs": [],
   "source": [
    "j=0\n",
    "gasbefore=[]\n",
    "gasafter=[]\n",
    "for key in df.Insulate:\n",
    "    if key==\"Before\":\n",
    "        gasbefore.append(df.Gas[j])\n",
    "    else:\n",
    "        gasafter.append(df.Gas[j])\n",
    "    j=j+1"
   ]
  },
  {
   "cell_type": "code",
   "execution_count": 13,
   "metadata": {},
   "outputs": [
    {
     "name": "stdout",
     "output_type": "stream",
     "text": [
      "Gas Consumption Before Insulation=  [7.2, 6.9, 6.4, 6.0, 5.8, 5.8, 5.6, 4.7, 5.8, 5.2, 4.9, 4.9, 4.3, 4.4, 4.5, 4.6, 3.7, 3.9, 4.2, 4.0, 3.9, 3.5, 4.0, 3.6, 3.1, 2.6]\n",
      "Gas Consumption After Insulation=  [4.8, 4.6, 4.7, 4.0, 4.2, 4.2, 4.1, 4.0, 3.5, 3.2, 3.9, 3.5, 3.7, 3.5, 3.5, 3.7, 3.5, 3.4]\n"
     ]
    }
   ],
   "source": [
    "print(\"Gas Consumption Before Insulation= \",gasbefore)\n",
    "print(\"Gas Consumption After Insulation= \",gasafter)"
   ]
  },
  {
   "cell_type": "markdown",
   "metadata": {},
   "source": [
    "# 1.Are there differences in gas consumption before and after installing insulation?"
   ]
  },
  {
   "cell_type": "code",
   "execution_count": 14,
   "metadata": {},
   "outputs": [
    {
     "name": "stdout",
     "output_type": "stream",
     "text": [
      "Gas Consumption Before Insulation(mean)=  4.75\n",
      "Gas Consumption After Insulation(mean)=  3.888888888888889\n",
      "Gas Consumption Before Insulation(Std dev)=  1.1402597544824196\n",
      "Gas Consumption After Insulation(Std dev)=  0.4593339246354308\n"
     ]
    }
   ],
   "source": [
    "print(\"Gas Consumption Before Insulation(mean)= \",stat.mean(gasbefore))\n",
    "print(\"Gas Consumption After Insulation(mean)= \",stat.mean(gasafter))\n",
    "print(\"Gas Consumption Before Insulation(Std dev)= \",stat.pstdev(gasbefore))\n",
    "print(\"Gas Consumption After Insulation(Std dev)= \",stat.pstdev(gasafter))"
   ]
  },
  {
   "cell_type": "code",
   "execution_count": 15,
   "metadata": {},
   "outputs": [],
   "source": [
    "GasSampleT= ttest_ind(gasbefore,gasafter,equal_var=False)"
   ]
  },
  {
   "cell_type": "code",
   "execution_count": 16,
   "metadata": {},
   "outputs": [
    {
     "data": {
      "text/plain": [
       "Ttest_indResult(statistic=3.392759780247909, pvalue=0.0017172556059866497)"
      ]
     },
     "execution_count": 16,
     "metadata": {},
     "output_type": "execute_result"
    }
   ],
   "source": [
    "GasSampleT"
   ]
  },
  {
   "cell_type": "markdown",
   "metadata": {},
   "source": [
    "### ANSWER: YES there are differences in gas consumption before and after installing insulation, Alternate Hypothesis are Accepted"
   ]
  },
  {
   "cell_type": "markdown",
   "metadata": {},
   "source": [
    "# 2. Are there differences in temperature before and after installing insulation?"
   ]
  },
  {
   "cell_type": "code",
   "execution_count": 21,
   "metadata": {},
   "outputs": [
    {
     "data": {
      "text/html": [
       "<div>\n",
       "<style scoped>\n",
       "    .dataframe tbody tr th:only-of-type {\n",
       "        vertical-align: middle;\n",
       "    }\n",
       "\n",
       "    .dataframe tbody tr th {\n",
       "        vertical-align: top;\n",
       "    }\n",
       "\n",
       "    .dataframe thead th {\n",
       "        text-align: right;\n",
       "    }\n",
       "</style>\n",
       "<table border=\"1\" class=\"dataframe\">\n",
       "  <thead>\n",
       "    <tr style=\"text-align: right;\">\n",
       "      <th></th>\n",
       "      <th>Insulate</th>\n",
       "      <th>Temp</th>\n",
       "      <th>Gas</th>\n",
       "    </tr>\n",
       "  </thead>\n",
       "  <tbody>\n",
       "    <tr>\n",
       "      <th>39</th>\n",
       "      <td>After</td>\n",
       "      <td>4.2</td>\n",
       "      <td>3.5</td>\n",
       "    </tr>\n",
       "    <tr>\n",
       "      <th>40</th>\n",
       "      <td>After</td>\n",
       "      <td>4.3</td>\n",
       "      <td>3.5</td>\n",
       "    </tr>\n",
       "    <tr>\n",
       "      <th>41</th>\n",
       "      <td>After</td>\n",
       "      <td>4.6</td>\n",
       "      <td>3.7</td>\n",
       "    </tr>\n",
       "    <tr>\n",
       "      <th>42</th>\n",
       "      <td>After</td>\n",
       "      <td>4.7</td>\n",
       "      <td>3.5</td>\n",
       "    </tr>\n",
       "    <tr>\n",
       "      <th>43</th>\n",
       "      <td>After</td>\n",
       "      <td>4.9</td>\n",
       "      <td>3.4</td>\n",
       "    </tr>\n",
       "  </tbody>\n",
       "</table>\n",
       "</div>"
      ],
      "text/plain": [
       "   Insulate  Temp  Gas\n",
       "39    After   4.2  3.5\n",
       "40    After   4.3  3.5\n",
       "41    After   4.6  3.7\n",
       "42    After   4.7  3.5\n",
       "43    After   4.9  3.4"
      ]
     },
     "execution_count": 21,
     "metadata": {},
     "output_type": "execute_result"
    }
   ],
   "source": [
    "df.tail(5)"
   ]
  },
  {
   "cell_type": "code",
   "execution_count": 22,
   "metadata": {},
   "outputs": [
    {
     "data": {
      "text/html": [
       "<div>\n",
       "<style scoped>\n",
       "    .dataframe tbody tr th:only-of-type {\n",
       "        vertical-align: middle;\n",
       "    }\n",
       "\n",
       "    .dataframe tbody tr th {\n",
       "        vertical-align: top;\n",
       "    }\n",
       "\n",
       "    .dataframe thead th {\n",
       "        text-align: right;\n",
       "    }\n",
       "</style>\n",
       "<table border=\"1\" class=\"dataframe\">\n",
       "  <thead>\n",
       "    <tr style=\"text-align: right;\">\n",
       "      <th></th>\n",
       "      <th>Insulate</th>\n",
       "      <th>Temp</th>\n",
       "      <th>Gas</th>\n",
       "    </tr>\n",
       "  </thead>\n",
       "  <tbody>\n",
       "    <tr>\n",
       "      <th>0</th>\n",
       "      <td>Before</td>\n",
       "      <td>-0.8</td>\n",
       "      <td>7.2</td>\n",
       "    </tr>\n",
       "    <tr>\n",
       "      <th>1</th>\n",
       "      <td>Before</td>\n",
       "      <td>-0.7</td>\n",
       "      <td>6.9</td>\n",
       "    </tr>\n",
       "    <tr>\n",
       "      <th>2</th>\n",
       "      <td>Before</td>\n",
       "      <td>0.4</td>\n",
       "      <td>6.4</td>\n",
       "    </tr>\n",
       "    <tr>\n",
       "      <th>3</th>\n",
       "      <td>Before</td>\n",
       "      <td>2.5</td>\n",
       "      <td>6.0</td>\n",
       "    </tr>\n",
       "    <tr>\n",
       "      <th>4</th>\n",
       "      <td>Before</td>\n",
       "      <td>2.9</td>\n",
       "      <td>5.8</td>\n",
       "    </tr>\n",
       "  </tbody>\n",
       "</table>\n",
       "</div>"
      ],
      "text/plain": [
       "  Insulate  Temp  Gas\n",
       "0   Before  -0.8  7.2\n",
       "1   Before  -0.7  6.9\n",
       "2   Before   0.4  6.4\n",
       "3   Before   2.5  6.0\n",
       "4   Before   2.9  5.8"
      ]
     },
     "execution_count": 22,
     "metadata": {},
     "output_type": "execute_result"
    }
   ],
   "source": [
    "df.head(5)"
   ]
  },
  {
   "cell_type": "code",
   "execution_count": 27,
   "metadata": {},
   "outputs": [],
   "source": [
    "i=0\n",
    "tempbefore=[]\n",
    "tempafter=[]\n",
    "for qwe in df.Insulate:\n",
    "    if qwe==\"After\":\n",
    "        tempafter.append(df.Temp[i])\n",
    "    else:\n",
    "        tempbefore.append(df.Temp[i])\n",
    "    i=i+1"
   ]
  },
  {
   "cell_type": "code",
   "execution_count": null,
   "metadata": {},
   "outputs": [],
   "source": []
  },
  {
   "cell_type": "code",
   "execution_count": 28,
   "metadata": {},
   "outputs": [
    {
     "name": "stdout",
     "output_type": "stream",
     "text": [
      "Temperature Consumption Before Insulation=  [-0.8, -0.7, 0.4, 2.5, 2.9, 3.2, 3.6, 3.9, 4.2, 4.3, 5.4, 6.0, 6.0, 6.0, 6.2, 6.3, 6.9, 7.0, 7.4, 7.5, 7.5, 7.6, 8.0, 8.5, 9.1, 10.2]\n",
      "Temperature Consumption After Insulation=  [-0.7, 0.8, 1.0, 1.4, 1.5, 1.6, 2.3, 2.5, 2.5, 3.1, 3.9, 4.0, 4.0, 4.2, 4.3, 4.6, 4.7, 4.9]\n"
     ]
    }
   ],
   "source": [
    "print(\"Temperature Consumption Before Insulation= \",tempbefore)\n",
    "print(\"Temperature Consumption After Insulation= \",tempafter)"
   ]
  },
  {
   "cell_type": "code",
   "execution_count": 29,
   "metadata": {},
   "outputs": [
    {
     "name": "stdout",
     "output_type": "stream",
     "text": [
      "Temperature Consumption Before Insulation(mean)=  5.35\n",
      "Temperature Consumption After Insulation(mean)=  2.811111111111111\n",
      "Temperature Consumption Before Insulation(Std dev)=  2.817015605756724\n",
      "Temperature Consumption After Insulation(Std dev)=  1.5751151241483867\n"
     ]
    }
   ],
   "source": [
    "print(\"Temperature Consumption Before Insulation(mean)= \",stat.mean(tempbefore))\n",
    "print(\"Temperature Consumption After Insulation(mean)= \",stat.mean(tempafter))\n",
    "print(\"Temperature Consumption Before Insulation(Std dev)= \",stat.pstdev(tempbefore))\n",
    "print(\"Temperature Consumption After Insulation(Std dev)= \",stat.pstdev(tempafter))"
   ]
  },
  {
   "cell_type": "code",
   "execution_count": 30,
   "metadata": {},
   "outputs": [],
   "source": [
    "TempSampleT= ttest_ind(tempbefore,tempafter,equal_var=False)"
   ]
  },
  {
   "cell_type": "code",
   "execution_count": 31,
   "metadata": {},
   "outputs": [
    {
     "data": {
      "text/plain": [
       "Ttest_indResult(statistic=3.7297761876466664, pvalue=0.0005855943088045527)"
      ]
     },
     "execution_count": 31,
     "metadata": {},
     "output_type": "execute_result"
    }
   ],
   "source": [
    "TempSampleT"
   ]
  },
  {
   "cell_type": "markdown",
   "metadata": {},
   "source": [
    "### ANSWER: YES there are differences in Temperature consumption before and after installing insulation,   Alternate Hypothesis are Accepted"
   ]
  },
  {
   "cell_type": "markdown",
   "metadata": {},
   "source": [
    "# 3.What data analytic (or example, Independent Sample T-Test)) technique did you used?"
   ]
  },
  {
   "cell_type": "code",
   "execution_count": 39,
   "metadata": {},
   "outputs": [
    {
     "name": "stdout",
     "output_type": "stream",
     "text": [
      "Length of Temperature Consumption Before Insulation =  26 -----> $1\n",
      "Length of Temperature Consumption After Insulation =  18 -----> $2\n"
     ]
    }
   ],
   "source": [
    "print(\"Length of Temperature Consumption Before Insulation = \",len(tempbefore),\"-----> $1\")\n",
    "print(\"Length of Temperature Consumption After Insulation = \",len(tempafter),\"-----> $2\")"
   ]
  },
  {
   "cell_type": "code",
   "execution_count": 40,
   "metadata": {},
   "outputs": [
    {
     "name": "stdout",
     "output_type": "stream",
     "text": [
      " $1 is not equal to $2, Independent Sample T-Test are followed here\n"
     ]
    }
   ],
   "source": [
    "print(\" $1 is not equal to $2, Independent Sample T-Test are followed here\")"
   ]
  },
  {
   "cell_type": "code",
   "execution_count": 41,
   "metadata": {},
   "outputs": [
    {
     "name": "stdout",
     "output_type": "stream",
     "text": [
      "Length of Gas Consumption Before Insulation =  26 -----> $3\n",
      "Length of Gas Consumption After Insulation =  18 -----> $4\n"
     ]
    }
   ],
   "source": [
    "print(\"Length of Gas Consumption Before Insulation = \",len(gasbefore),\"-----> $3\")\n",
    "print(\"Length of Gas Consumption After Insulation = \",len(gasafter),\"-----> $4\")"
   ]
  },
  {
   "cell_type": "code",
   "execution_count": 42,
   "metadata": {},
   "outputs": [
    {
     "name": "stdout",
     "output_type": "stream",
     "text": [
      " $3 is not equal to $4, Independent Sample T-Test are followed here\n"
     ]
    }
   ],
   "source": [
    "print(\" $3 is not equal to $4, Independent Sample T-Test are followed here\")"
   ]
  },
  {
   "cell_type": "markdown",
   "metadata": {},
   "source": [
    "### ANSWER:  $1 is not equal to $2, $3 is not equal to $4, Independent Sample T-Test are followed here"
   ]
  },
  {
   "cell_type": "code",
   "execution_count": null,
   "metadata": {},
   "outputs": [],
   "source": []
  }
 ],
 "metadata": {
  "kernelspec": {
   "display_name": "Python 3",
   "language": "python",
   "name": "python3"
  },
  "language_info": {
   "codemirror_mode": {
    "name": "ipython",
    "version": 3
   },
   "file_extension": ".py",
   "mimetype": "text/x-python",
   "name": "python",
   "nbconvert_exporter": "python",
   "pygments_lexer": "ipython3",
   "version": "3.8.5"
  }
 },
 "nbformat": 4,
 "nbformat_minor": 4
}
